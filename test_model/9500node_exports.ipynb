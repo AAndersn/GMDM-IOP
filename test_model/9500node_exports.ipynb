{
 "cells": [
  {
   "cell_type": "code",
   "execution_count": null,
   "id": "3e0ffe72",
   "metadata": {},
   "outputs": [],
   "source": [
    "! pip install cim-graph==0.4.1a0"
   ]
  },
  {
   "cell_type": "code",
   "execution_count": null,
   "id": "75306380",
   "metadata": {},
   "outputs": [],
   "source": [
    "import os\n",
    "os.environ['CIMG_VALIDATION_LOG_LEVEL'] = 'DEBUG'\n",
    "from cimgraph.databases import XMLFile\n",
    "from cimgraph.models import FeederModel\n",
    "from cimgraph import utils\n",
    "\n",
    "namespaces={'cim': 'http://cim.ucaiug.io/ns#',\n",
    "            'gmdm': 'http://epri.com/gmdm#',\n",
    "            'rdf': 'http://www.w3.org/1999/02/22-rdf-syntax-ns#'}"
   ]
  },
  {
   "cell_type": "code",
   "execution_count": null,
   "id": "03ed1462",
   "metadata": {},
   "outputs": [],
   "source": [
    "os.environ['CIMG_CIM_PROFILE'] = 'cimgraph.data_profile.cim18gmdm.connectivity'\n",
    "file = XMLFile(filename='ieee_9500_gmdm.xml', namespaces=namespaces)\n",
    "network = FeederModel(container=None, connection=file)\n",
    "utils.write_xml(network = network, filename='connectivity.xml', namespaces=namespaces)"
   ]
  },
  {
   "cell_type": "code",
   "execution_count": null,
   "id": "7796862f",
   "metadata": {},
   "outputs": [],
   "source": [
    "os.environ['CIMG_CIM_PROFILE'] = 'cimgraph.data_profile.cim18gmdm.electrical'\n",
    "file = XMLFile(filename='ieee_9500_gmdm.xml', namespaces=namespaces)\n",
    "network = FeederModel(container=None, connection=file)\n",
    "utils.write_xml(network = network, filename='electrical.xml', namespaces=namespaces)"
   ]
  },
  {
   "cell_type": "code",
   "execution_count": null,
   "id": "bdea8a73",
   "metadata": {},
   "outputs": [],
   "source": [
    "os.environ['CIMG_CIM_PROFILE'] = 'cimgraph.data_profile.cim18gmdm.asset'\n",
    "file = XMLFile(filename='ieee_9500_gmdm.xml', namespaces=namespaces)\n",
    "network = FeederModel(container=None, connection=file)\n",
    "utils.write_xml(network = network, filename='asset.xml', namespaces=namespaces)"
   ]
  },
  {
   "cell_type": "code",
   "execution_count": null,
   "id": "7aca02af",
   "metadata": {},
   "outputs": [],
   "source": [
    "os.environ['CIMG_CIM_PROFILE'] = 'cimgraph.data_profile.cim18gmdm.location'\n",
    "file = XMLFile(filename='ieee_9500_gmdm.xml', namespaces=namespaces)\n",
    "network = FeederModel(container=None, connection=file)\n",
    "utils.write_xml(network = network, filename='location.xml', namespaces=namespaces)"
   ]
  },
  {
   "cell_type": "code",
   "execution_count": null,
   "metadata": {},
   "outputs": [],
   "source": [
    "os.environ['CIMG_CIM_PROFILE'] = 'cimgraph.data_profile.cim18gmdm.marketnode'\n",
    "file = XMLFile(filename='ieee_9500_gmdm.xml', namespaces=namespaces)\n",
    "network = FeederModel(container=None, connection=file)\n",
    "utils.write_xml(network = network, filename='marketnode.xml', namespaces=namespaces)"
   ]
  },
  {
   "cell_type": "code",
   "execution_count": null,
   "id": "e63dd5fc",
   "metadata": {},
   "outputs": [],
   "source": [
    "os.environ['CIMG_VALIDATION_LOG_LEVEL'] = 'WARNING'\n",
    "os.environ['CIMG_CIM_PROFILE'] = 'cimgraph.data_profile.cim18gmdm.canonical'\n",
    "connectivity = XMLFile(filename='connectivity.xml', namespaces=namespaces)\n",
    "electrical = XMLFile(filename='electrical.xml', namespaces=namespaces)\n",
    "asset = XMLFile(filename='asset.xml', namespaces=namespaces)\n",
    "location = XMLFile(filename='location.xml', namespaces=namespaces)\n",
    "\n",
    "conn_network = FeederModel(container=None, connection=connectivity)\n",
    "conn_elec = FeederModel(container=None, connection=electrical, graph=conn_network.graph)\n",
    "conn_elec_asset = FeederModel(container=None, connection=asset, graph=conn_elec.graph)\n",
    "conn_elec_asset_location = FeederModel(container=None, connection=location, graph=conn_elec_asset.graph)\n",
    "utils.write_xml(network=conn_elec_asset_location, filename='round_trip.xml', namespaces=namespaces)\n"
   ]
  },
  {
   "cell_type": "code",
   "execution_count": null,
   "id": "66c14558",
   "metadata": {},
   "outputs": [],
   "source": []
  }
 ],
 "metadata": {
  "kernelspec": {
   "display_name": "Python 3",
   "language": "python",
   "name": "python3"
  },
  "language_info": {
   "codemirror_mode": {
    "name": "ipython",
    "version": 3
   },
   "file_extension": ".py",
   "mimetype": "text/x-python",
   "name": "python",
   "nbconvert_exporter": "python",
   "pygments_lexer": "ipython3",
   "version": "3.10.12"
  }
 },
 "nbformat": 4,
 "nbformat_minor": 5
}
