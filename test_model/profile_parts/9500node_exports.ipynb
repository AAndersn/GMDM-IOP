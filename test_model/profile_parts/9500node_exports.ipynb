{
 "cells": [
  {
   "cell_type": "code",
   "execution_count": 1,
   "id": "3e0ffe72",
   "metadata": {},
   "outputs": [],
   "source": [
    "# ! pip install cim-graph==0.4.1a0"
   ]
  },
  {
   "cell_type": "code",
   "execution_count": 2,
   "id": "75306380",
   "metadata": {},
   "outputs": [],
   "source": [
    "import os\n",
    "os.environ['CIMG_VALIDATION_LOG_LEVEL'] = 'DEBUG'\n",
    "from cimgraph.databases import XMLFile\n",
    "from cimgraph.models import FeederModel\n",
    "from cimgraph import utils\n",
    "\n",
    "namespaces={'cim': 'http://cim.ucaiug.io/ns#',\n",
    "            'gmdm': 'http://epri.com/gmdm#',\n",
    "            'rdf': 'http://www.w3.org/1999/02/22-rdf-syntax-ns#'}"
   ]
  },
  {
   "cell_type": "code",
   "execution_count": 3,
   "id": "03ed1462",
   "metadata": {},
   "outputs": [],
   "source": [
    "os.environ['CIMG_CIM_PROFILE'] = 'cimgraph.data_profile.cim18gmdm.connectivity'\n",
    "file = XMLFile(filename='../ieee_9500_gmdm.xml', namespaces=namespaces)\n",
    "network = FeederModel(container=None, connection=file)\n",
    "utils.write_xml(network = network, filename='connectivity.xml', namespaces=namespaces)\n",
    "utils.write_json_ld(network = network, filename='connectivity.jsonld', namespaces=namespaces)"
   ]
  },
  {
   "cell_type": "code",
   "execution_count": 4,
   "id": "7796862f",
   "metadata": {},
   "outputs": [],
   "source": [
    "os.environ['CIMG_CIM_PROFILE'] = 'cimgraph.data_profile.cim18gmdm.electrical'\n",
    "file = XMLFile(filename='../ieee_9500_gmdm.xml', namespaces=namespaces)\n",
    "network = FeederModel(container=None, connection=file)\n",
    "utils.write_xml(network = network, filename='electrical.xml', namespaces=namespaces)\n",
    "utils.write_json_ld(network = network, filename='electrical.jsonld', namespaces=namespaces)"
   ]
  },
  {
   "cell_type": "code",
   "execution_count": 5,
   "id": "bdea8a73",
   "metadata": {},
   "outputs": [],
   "source": [
    "os.environ['CIMG_CIM_PROFILE'] = 'cimgraph.data_profile.cim18gmdm.asset'\n",
    "file = XMLFile(filename='../ieee_9500_gmdm.xml', namespaces=namespaces)\n",
    "network = FeederModel(container=None, connection=file)\n",
    "utils.write_xml(network = network, filename='asset.xml', namespaces=namespaces)\n",
    "utils.write_json_ld(network = network, filename='asset.jsonld', namespaces=namespaces)"
   ]
  },
  {
   "cell_type": "code",
   "execution_count": 6,
   "id": "7aca02af",
   "metadata": {},
   "outputs": [],
   "source": [
    "os.environ['CIMG_CIM_PROFILE'] = 'cimgraph.data_profile.cim18gmdm.location'\n",
    "file = XMLFile(filename='../ieee_9500_gmdm.xml', namespaces=namespaces)\n",
    "network = FeederModel(container=None, connection=file)\n",
    "utils.write_xml(network = network, filename='location.xml', namespaces=namespaces)\n",
    "utils.write_json_ld(network = network, filename='location.jsonld', namespaces=namespaces)"
   ]
  },
  {
   "cell_type": "code",
   "execution_count": 7,
   "id": "dafc6630",
   "metadata": {},
   "outputs": [],
   "source": [
    "os.environ['CIMG_CIM_PROFILE'] = 'cimgraph.data_profile.cim18gmdm.marketnode'\n",
    "file = XMLFile(filename='../ieee_9500_gmdm.xml', namespaces=namespaces)\n",
    "network = FeederModel(container=None, connection=file)\n",
    "utils.write_xml(network = network, filename='marketnode.xml', namespaces=namespaces)\n",
    "utils.write_json_ld(network = network, filename='marketnode.jsonld', namespaces=namespaces)"
   ]
  },
  {
   "cell_type": "code",
   "execution_count": 8,
   "id": "5e61e57e",
   "metadata": {},
   "outputs": [],
   "source": [
    "# os.environ['CIMG_CIM_PROFILE'] = 'cimgraph.data_profile.cim18gmdm.usagepoint'\n",
    "# file = XMLFile(filename='../ieee_9500_gmdm.xml', namespaces=namespaces)\n",
    "# network = FeederModel(container=None, connection=file)\n",
    "# # network.export_with_shacl_and_serialize(shacl_file='../export_rules/usagepoint_shacl.ttl',\n",
    "# #                 output_file='usagepoint.xml', format='xml', namespaces=namespaces)\n",
    "# utils.write_xml(network = network, filename='usagepoint.xml', namespaces=namespaces)\n",
    "# utils.write_json_ld(network = network, filename='usagepoint.jsonld', namespaces=namespaces)"
   ]
  },
  {
   "cell_type": "code",
   "execution_count": 10,
   "id": "e63dd5fc",
   "metadata": {},
   "outputs": [],
   "source": [
    "os.environ['CIMG_VALIDATION_LOG_LEVEL'] = 'WARNING'\n",
    "os.environ['CIMG_CIM_PROFILE'] = 'cimgraph.data_profile.cim18gmdm.canonical'\n",
    "connectivity = XMLFile(filename='connectivity.xml', namespaces=namespaces)\n",
    "electrical = XMLFile(filename='electrical.xml', namespaces=namespaces)\n",
    "asset = XMLFile(filename='asset.xml', namespaces=namespaces)\n",
    "location = XMLFile(filename='location.xml', namespaces=namespaces)\n",
    "marketnode = XMLFile(filename='marketnode.xml', namespaces=namespaces)\n",
    "# usagepoint = XMLFile(filename='usagepoint.xml', namespaces=namespaces)\n",
    "\n",
    "conn_network = FeederModel(container=None, connection=connectivity)\n",
    "conn_elec = FeederModel(container=None, connection=electrical, graph=conn_network.graph)\n",
    "conn_elec_asset = FeederModel(container=None, connection=asset, graph=conn_elec.graph)\n",
    "conn_elec_asset_location = FeederModel(container=None, connection=location, graph=conn_elec_asset.graph)\n",
    "complete_network = FeederModel(container=None, connection=marketnode, graph=conn_elec_asset_location.graph)\n",
    "# complete_network = FeederModel(container=None, connection=usagepoint, graph=conn_elec_asset_location_pnode.graph)\n",
    "utils.write_xml(network=complete_network, filename='../merge.xml', namespaces=namespaces)\n",
    "# utils.write_json_ld(network=complete_network, filename='../merge.jsonld', namespaces=namespaces)\n"
   ]
  },
  {
   "cell_type": "code",
   "execution_count": null,
   "id": "1c37dde4",
   "metadata": {},
   "outputs": [],
   "source": []
  }
 ],
 "metadata": {
  "kernelspec": {
   "display_name": "Python 3",
   "language": "python",
   "name": "python3"
  },
  "language_info": {
   "codemirror_mode": {
    "name": "ipython",
    "version": 3
   },
   "file_extension": ".py",
   "mimetype": "text/x-python",
   "name": "python",
   "nbconvert_exporter": "python",
   "pygments_lexer": "ipython3",
   "version": "3.10.12"
  }
 },
 "nbformat": 4,
 "nbformat_minor": 5
}
