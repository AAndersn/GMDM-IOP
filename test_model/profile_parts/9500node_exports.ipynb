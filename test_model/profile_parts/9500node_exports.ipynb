{
 "cells": [
  {
   "cell_type": "code",
   "execution_count": 1,
   "id": "3e0ffe72",
   "metadata": {},
   "outputs": [],
   "source": [
    "# ! pip install cim-graph==0.4.3a1"
   ]
  },
  {
   "cell_type": "code",
   "execution_count": 2,
   "id": "75306380",
   "metadata": {},
   "outputs": [],
   "source": [
    "import os\n",
    "os.environ['CIMG_VALIDATION_LOG_LEVEL'] = 'DEBUG'\n",
    "from cimgraph.databases import XMLFile\n",
    "from cimgraph.models import FeederModel\n",
    "from cimgraph import utils\n",
    "\n",
    "namespaces={'cim': 'http://cim.ucaiug.io/CIM101/draft#',\n",
    "            'gmdm': 'http://epri.com/gmdm/2025#',\n",
    "            'rdf': 'http://www.w3.org/1999/02/22-rdf-syntax-ns#'}"
   ]
  },
  {
   "cell_type": "code",
   "execution_count": 3,
   "id": "552f39a1",
   "metadata": {},
   "outputs": [
    {
     "name": "stderr",
     "output_type": "stream",
     "text": [
      "Error cleaning inverse reference for phase in ACLineSegmentPhase\n",
      "Error cleaning inverse reference for phase in ACLineSegmentPhase\n",
      "Error cleaning inverse reference for phase in ACLineSegmentPhase\n",
      "Error cleaning inverse reference for phase in ACLineSegmentPhase\n",
      "Error cleaning inverse reference for phase in ACLineSegmentPhase\n",
      "Error cleaning inverse reference for phase in ACLineSegmentPhase\n",
      "Error cleaning inverse reference for phase in ACLineSegmentPhase\n",
      "Error cleaning inverse reference for phase in ACLineSegmentPhase\n",
      "Error cleaning inverse reference for phase in ACLineSegmentPhase\n",
      "Error cleaning inverse reference for phase in ACLineSegmentPhase\n",
      "Error cleaning inverse reference for phase in ACLineSegmentPhase\n",
      "Error cleaning inverse reference for phase in ACLineSegmentPhase\n",
      "Error cleaning inverse reference for phase in ACLineSegmentPhase\n",
      "Error cleaning inverse reference for phase in ACLineSegmentPhase\n",
      "Error cleaning inverse reference for phase in ACLineSegmentPhase\n",
      "Error cleaning inverse reference for phase in ACLineSegmentPhase\n",
      "Error cleaning inverse reference for phase in ACLineSegmentPhase\n",
      "Error cleaning inverse reference for phase in ACLineSegmentPhase\n",
      "Error cleaning inverse reference for phase in ACLineSegmentPhase\n",
      "Error cleaning inverse reference for phase in ACLineSegmentPhase\n",
      "Error cleaning inverse reference for phase in ACLineSegmentPhase\n",
      "Error cleaning inverse reference for phase in ACLineSegmentPhase\n",
      "Error cleaning inverse reference for phase in ACLineSegmentPhase\n",
      "Error cleaning inverse reference for phase in ACLineSegmentPhase\n",
      "Error cleaning inverse reference for phase in ACLineSegmentPhase\n",
      "Error cleaning inverse reference for phase in ACLineSegmentPhase\n",
      "Error cleaning inverse reference for phase in ACLineSegmentPhase\n",
      "Error cleaning inverse reference for phase in ACLineSegmentPhase\n",
      "Error cleaning inverse reference for phase in ACLineSegmentPhase\n",
      "Error cleaning inverse reference for phase in ACLineSegmentPhase\n",
      "Error cleaning inverse reference for connectionKind in PowerTransformerEnd\n",
      "Error cleaning inverse reference for connectionKind in PowerTransformerEnd\n",
      "Error cleaning inverse reference for connectionKind in PowerTransformerEnd\n",
      "Error cleaning inverse reference for connectionKind in PowerTransformerEnd\n",
      "Error cleaning inverse reference for connectionKind in PowerTransformerEnd\n",
      "Error cleaning inverse reference for connectionKind in PowerTransformerEnd\n",
      "Error cleaning inverse reference for connectionKind in PowerTransformerEnd\n",
      "Error cleaning inverse reference for connectionKind in PowerTransformerEnd\n",
      "Error cleaning inverse reference for mode in TapChangerControl\n",
      "Error cleaning inverse reference for monitoredPhase in TapChangerControl\n",
      "Error cleaning inverse reference for mode in TapChangerControl\n",
      "Error cleaning inverse reference for monitoredPhase in TapChangerControl\n",
      "Error cleaning inverse reference for mode in TapChangerControl\n",
      "Error cleaning inverse reference for monitoredPhase in TapChangerControl\n",
      "Error cleaning inverse reference for mode in TapChangerControl\n",
      "Error cleaning inverse reference for monitoredPhase in TapChangerControl\n",
      "Error cleaning inverse reference for mode in TapChangerControl\n",
      "Error cleaning inverse reference for monitoredPhase in TapChangerControl\n",
      "Error cleaning inverse reference for mode in TapChangerControl\n",
      "Error cleaning inverse reference for monitoredPhase in TapChangerControl\n",
      "Error cleaning inverse reference for mode in TapChangerControl\n",
      "Error cleaning inverse reference for monitoredPhase in TapChangerControl\n",
      "Error cleaning inverse reference for mode in TapChangerControl\n",
      "Error cleaning inverse reference for monitoredPhase in TapChangerControl\n",
      "Error cleaning inverse reference for mode in TapChangerControl\n",
      "Error cleaning inverse reference for monitoredPhase in TapChangerControl\n",
      "Error cleaning inverse reference for connectionKind in TransformerEndInfo\n",
      "Error cleaning inverse reference for connectionKind in TransformerEndInfo\n",
      "Error cleaning inverse reference for orderedPhases in TransformerTankEnd\n",
      "Error cleaning inverse reference for orderedPhases in TransformerTankEnd\n",
      "Error cleaning inverse reference for orderedPhases in TransformerTankEnd\n",
      "Error cleaning inverse reference for orderedPhases in TransformerTankEnd\n",
      "Error cleaning inverse reference for orderedPhases in TransformerTankEnd\n",
      "Error cleaning inverse reference for orderedPhases in TransformerTankEnd\n",
      "Error cleaning inverse reference for orderedPhases in TransformerTankEnd\n",
      "Error cleaning inverse reference for orderedPhases in TransformerTankEnd\n",
      "Error cleaning inverse reference for orderedPhases in TransformerTankEnd\n",
      "Error cleaning inverse reference for orderedPhases in TransformerTankEnd\n",
      "Error cleaning inverse reference for orderedPhases in TransformerTankEnd\n",
      "Error cleaning inverse reference for orderedPhases in TransformerTankEnd\n",
      "Error cleaning inverse reference for orderedPhases in TransformerTankEnd\n",
      "Error cleaning inverse reference for orderedPhases in TransformerTankEnd\n",
      "Error cleaning inverse reference for orderedPhases in TransformerTankEnd\n",
      "Error cleaning inverse reference for orderedPhases in TransformerTankEnd\n",
      "Error cleaning inverse reference for orderedPhases in TransformerTankEnd\n",
      "Error cleaning inverse reference for orderedPhases in TransformerTankEnd\n"
     ]
    }
   ],
   "source": [
    "os.environ['CIMG_CIM_PROFILE'] = 'cimgraph.data_profile.cim18gmdm.canonical'\n",
    "import cimgraph.data_profile.cim18gmdm.canonical as cim # must match env var\n",
    "file = XMLFile(filename='../ieee_9500_gmdm.xml', namespaces=namespaces)\n",
    "network = FeederModel(container=None, connection=file)\n",
    "for location in network.list_by_class(cim.Location):\n",
    "    if 'hvmv' in location.name or 'feeder_reg' in location.name:\n",
    "        for point in location.PositionPoints:\n",
    "            network.delete(point)\n",
    "\n",
    "for cim_class in network.graph:\n",
    "    for obj in network.list_by_class(cim_class):\n",
    "        try:\n",
    "            if 'hvmv' in obj.name or 'feeder_reg' in obj.name:\n",
    "                network.delete(obj)\n",
    "        except:\n",
    "            pass\n",
    "utils.write_xml(network = network, filename='./distribution/master.xml', namespaces=namespaces)\n",
    "            "
   ]
  },
  {
   "cell_type": "code",
   "execution_count": 4,
   "id": "03ed1462",
   "metadata": {},
   "outputs": [],
   "source": [
    "os.environ['CIMG_CIM_PROFILE'] = 'cimgraph.data_profile.cim18gmdm.connectivity'\n",
    "file = XMLFile(filename='./distribution/master.xml', namespaces=namespaces)\n",
    "network = FeederModel(container=None, connection=file)\n",
    "utils.write_xml(network = network, filename='./distribution/connectivity.xml', namespaces=namespaces)\n",
    "utils.write_json_ld(network = network, filename='./distribution/connectivity.jsonld', namespaces=namespaces)"
   ]
  },
  {
   "cell_type": "code",
   "execution_count": 5,
   "id": "7796862f",
   "metadata": {},
   "outputs": [],
   "source": [
    "os.environ['CIMG_CIM_PROFILE'] = 'cimgraph.data_profile.cim18gmdm.electrical'\n",
    "file = XMLFile(filename='./distribution/master.xml', namespaces=namespaces)\n",
    "network = FeederModel(container=None, connection=file)\n",
    "utils.write_xml(network = network, filename='./distribution/electrical.xml', namespaces=namespaces)\n",
    "utils.write_json_ld(network = network, filename='./distribution/electrical.jsonld', namespaces=namespaces)"
   ]
  },
  {
   "cell_type": "code",
   "execution_count": 6,
   "id": "bdea8a73",
   "metadata": {},
   "outputs": [],
   "source": [
    "os.environ['CIMG_CIM_PROFILE'] = 'cimgraph.data_profile.cim18gmdm.asset'\n",
    "file = XMLFile(filename='./distribution/master.xml', namespaces=namespaces)\n",
    "network = FeederModel(container=None, connection=file)\n",
    "utils.write_xml(network = network, filename='./distribution/asset.xml', namespaces=namespaces)\n",
    "utils.write_json_ld(network = network, filename='./distribution/asset.jsonld', namespaces=namespaces)"
   ]
  },
  {
   "cell_type": "code",
   "execution_count": 7,
   "id": "7aca02af",
   "metadata": {},
   "outputs": [],
   "source": [
    "os.environ['CIMG_CIM_PROFILE'] = 'cimgraph.data_profile.cim18gmdm.location'\n",
    "file = XMLFile(filename='./distribution/master.xml', namespaces=namespaces)\n",
    "network = FeederModel(container=None, connection=file)\n",
    "utils.write_xml(network = network, filename='./distribution/location.xml', namespaces=namespaces)\n",
    "utils.write_json_ld(network = network, filename='./distribution/location.jsonld', namespaces=namespaces)"
   ]
  },
  {
   "cell_type": "code",
   "execution_count": 8,
   "id": "dafc6630",
   "metadata": {},
   "outputs": [],
   "source": [
    "os.environ['CIMG_CIM_PROFILE'] = 'cimgraph.data_profile.cim18gmdm.marketnode'\n",
    "file = XMLFile(filename='./distribution/master.xml', namespaces=namespaces)\n",
    "network = FeederModel(container=None, connection=file)\n",
    "utils.write_xml(network = network, filename='./distribution/marketnode.xml', namespaces=namespaces)\n",
    "utils.write_json_ld(network = network, filename='./distribution/marketnode.jsonld', namespaces=namespaces)"
   ]
  },
  {
   "cell_type": "markdown",
   "id": "35379515",
   "metadata": {},
   "source": []
  },
  {
   "cell_type": "code",
   "execution_count": 9,
   "id": "e63dd5fc",
   "metadata": {},
   "outputs": [],
   "source": [
    "os.environ['CIMG_VALIDATION_LOG_LEVEL'] = 'WARNING'\n",
    "os.environ['CIMG_CIM_PROFILE'] = 'cimgraph.data_profile.cim18gmdm.canonical'\n",
    "connectivity = XMLFile(filename='./distribution/connectivity.xml', namespaces=namespaces)\n",
    "electrical = XMLFile(filename='./distribution/electrical.xml', namespaces=namespaces)\n",
    "asset = XMLFile(filename='./distribution/asset.xml', namespaces=namespaces)\n",
    "location = XMLFile(filename='./distribution/location.xml', namespaces=namespaces)\n",
    "marketnode = XMLFile(filename='./distribution/marketnode.xml', namespaces=namespaces)\n",
    "\n",
    "conn_network = FeederModel(container=None, connection=connectivity)\n",
    "conn_elec = FeederModel(container=None, connection=electrical, graph=conn_network.graph)\n",
    "conn_elec_asset = FeederModel(container=None, connection=asset, graph=conn_elec.graph)\n",
    "conn_elec_asset_location = FeederModel(container=None, connection=location, graph=conn_elec_asset.graph)\n",
    "complete_network = FeederModel(container=None, connection=marketnode, graph=conn_elec_asset_location.graph)\n",
    "\n",
    "utils.write_xml(network=complete_network, filename='./distribution/merge.xml', namespaces=namespaces)\n",
    "utils.write_json_ld(network=complete_network, filename='./distribution/merge.jsonld', namespaces=namespaces)\n"
   ]
  },
  {
   "cell_type": "code",
   "execution_count": 10,
   "id": "1c37dde4",
   "metadata": {},
   "outputs": [],
   "source": [
    "import os\n",
    "os.environ['CIMG_VALIDATION_LOG_LEVEL'] = 'WARNING'\n",
    "\n",
    "os.environ['CIMG_CIM_PROFILE'] = 'cimgraph.data_profile.cim18gmdm.canonical'\n",
    "import cimgraph.data_profile.cim18gmdm.canonical as cim # must match env var\n",
    "\n",
    "from cimgraph.databases import XMLFile\n",
    "from cimgraph.models import FeederModel\n",
    "from cimgraph import utils\n",
    "\n",
    "namespaces={'cim': 'http://cim.ucaiug.io/CIM101/draft#',\n",
    "            'gmdm': 'http://epri.com/gmdm/2025#',\n",
    "            'rdf': 'http://www.w3.org/1999/02/22-rdf-syntax-ns#'}\n",
    "\n",
    "file = XMLFile(filename='./distribution/merge.xml', namespaces=namespaces)\n",
    "network = FeederModel(container=None, connection=file)\n"
   ]
  },
  {
   "cell_type": "code",
   "execution_count": null,
   "id": "d1cab759",
   "metadata": {},
   "outputs": [],
   "source": []
  }
 ],
 "metadata": {
  "kernelspec": {
   "display_name": "Python 3",
   "language": "python",
   "name": "python3"
  },
  "language_info": {
   "codemirror_mode": {
    "name": "ipython",
    "version": 3
   },
   "file_extension": ".py",
   "mimetype": "text/x-python",
   "name": "python",
   "nbconvert_exporter": "python",
   "pygments_lexer": "ipython3",
   "version": "3.10.12"
  }
 },
 "nbformat": 4,
 "nbformat_minor": 5
}
